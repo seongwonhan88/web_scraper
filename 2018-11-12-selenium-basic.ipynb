{
 "cells": [
  {
   "cell_type": "code",
   "execution_count": 1,
   "metadata": {},
   "outputs": [],
   "source": [
    "from selenium import webdriver\n"
   ]
  },
  {
   "cell_type": "code",
   "execution_count": 8,
   "metadata": {},
   "outputs": [],
   "source": [
    "driver = webdriver.Chrome('/Users/seongwon/myproj/scraper/chromedriver')\n",
    "# driver = webdriver.PhantomJS('/Users/seongwon/Downloads/phantomjs-2.1.1-macosx/bin/phantomjs')\n",
    "driver.implicitly_wait(3)\n",
    "driver.get('https://google.com')"
   ]
  },
  {
   "cell_type": "code",
   "execution_count": 12,
   "metadata": {},
   "outputs": [],
   "source": [
    "driver.get('https://nid.naver.com/nidlogin.login')\n",
    "driver.find_element_by_name('id').send_keys('my id')\n",
    "driver.find_element_by_name('pw').send_keys('password')"
   ]
  },
  {
   "cell_type": "code",
   "execution_count": 13,
   "metadata": {},
   "outputs": [],
   "source": [
    "driver.find_element_by_xpath('//*[@id=\"frmNIDLogin\"]/fieldset/input').click()"
   ]
  },
  {
   "cell_type": "code",
   "execution_count": 14,
   "metadata": {},
   "outputs": [],
   "source": [
    "from bs4 import BeautifulSoup"
   ]
  },
  {
   "cell_type": "code",
   "execution_count": 15,
   "metadata": {},
   "outputs": [],
   "source": [
    "driver.get('https://order.pay.naver.com/home')\n",
    "html = driver.page_source\n",
    "soup = BeautifulSoup(html, 'html.parser')\n",
    "notices = soup.select('div.p_inr > div.p_info > a > span')"
   ]
  },
  {
   "cell_type": "code",
   "execution_count": 17,
   "metadata": {},
   "outputs": [
    {
     "name": "stdout",
     "output_type": "stream",
     "text": [
      "교보문고 파이썬으로 만드는 서버리스 애플리케이션\n",
      "배달의민족 교촌레드 윙\n",
      "도미노피자 직화 스테이크 더블치즈엣지 외 2건\n",
      "배달의민족 콜라 추가외 1\n",
      "컨버스 척테일러 1970s 로우 블랙 화이트\n",
      "도미노피자 슈퍼디럭스 더블치즈엣지 외 2건\n",
      "배달의민족 콜라 추가외 1\n",
      "예스24 신경 끄기의 기술 : 인생에서 가장 중요한 것만 남기는 힘 [EPUB]\n",
      "남녀공용 무지 기본 반팔티 1301\n",
      "남녀공용 무지 기본 반팔티 1301\n",
      "배달의민족 교촌레드 콤보\n",
      "배달의민족 교촌반반 콤보\n",
      "도미노피자 슈퍼디럭스 더블치즈엣지\n",
      "교보문고 두 갈래 길 외 1건\n",
      "매틴 Z5 타이어포드 미러리스/스마트폰 고릴라삼각대\n"
     ]
    }
   ],
   "source": [
    "for n in notices:\n",
    "    print(n.text.strip())"
   ]
  },
  {
   "cell_type": "code",
   "execution_count": null,
   "metadata": {},
   "outputs": [],
   "source": []
  }
 ],
 "metadata": {
  "kernelspec": {
   "display_name": "Python 3",
   "language": "python",
   "name": "python3"
  },
  "language_info": {
   "codemirror_mode": {
    "name": "ipython",
    "version": 3
   },
   "file_extension": ".py",
   "mimetype": "text/x-python",
   "name": "python",
   "nbconvert_exporter": "python",
   "pygments_lexer": "ipython3",
   "version": "3.6.6"
  }
 },
 "nbformat": 4,
 "nbformat_minor": 2
}
